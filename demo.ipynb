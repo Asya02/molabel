{
 "cells": [
  {
   "cell_type": "markdown",
   "metadata": {},
   "source": [
    "# SimpleLabel Demo\n",
    "\n",
    "This notebook demonstrates how to use the SimpleLabel widget for annotation tasks."
   ]
  },
  {
   "cell_type": "code",
   "execution_count": null,
   "metadata": {},
   "outputs": [],
   "source": [
    "from src import SimpleLabel"
   ]
  },
  {
   "cell_type": "markdown",
   "metadata": {},
   "source": [
    "## Basic Example\n",
    "\n",
    "Let's start with a simple list of text examples:"
   ]
  },
  {
   "cell_type": "code",
   "execution_count": null,
   "metadata": {},
   "outputs": [],
   "source": [
    "# Simple text examples\n",
    "examples = [\n",
    "    \"This product is amazing! Best purchase ever.\",\n",
    "    \"Terrible quality, broke after one day.\",\n",
    "    \"It's okay, nothing special but does the job.\",\n",
    "    \"Shipping was fast and packaging was good.\",\n",
    "    \"Would not recommend to anyone.\"\n",
    "]\n",
    "\n",
    "# Create widget with keyboard shortcuts\n",
    "widget = SimpleLabel(\n",
    "    examples=examples,\n",
    "    notes=True,\n",
    "    shortcuts={\"d\": \"prev\", \"f\": \"no\", \"j\": \"yes\", \"k\": \"skip\"}\n",
    ")\n",
    "\n",
    "widget"
   ]
  },
  {
   "cell_type": "markdown",
   "metadata": {},
   "source": [
    "## Getting Annotations\n",
    "\n",
    "After annotating some examples, you can retrieve them:"
   ]
  },
  {
   "cell_type": "code",
   "metadata": {},
   "outputs": [],
   "source": "# Get the annotations\nannotations = widget.get_annotations()\nprint(f\"Collected {len(annotations)} annotations:\")\nfor ann in annotations:\n    print(f\"- Example {ann['index']}: '{ann['example'][:30]}...' -> {ann['_label']}\")"
  },
  {
   "cell_type": "markdown",
   "metadata": {},
   "source": [
    "## Custom Rendering\n",
    "\n",
    "You can provide a custom render function for more complex data:"
   ]
  },
  {
   "cell_type": "code",
   "execution_count": null,
   "metadata": {},
   "outputs": [],
   "source": [
    "# Dictionary examples\n",
    "dict_examples = [\n",
    "    {\"id\": 1, \"text\": \"Great service!\", \"rating\": 5, \"verified\": True},\n",
    "    {\"id\": 2, \"text\": \"Not satisfied\", \"rating\": 2, \"verified\": False},\n",
    "    {\"id\": 3, \"text\": \"Average experience\", \"rating\": 3, \"verified\": True}\n",
    "]\n",
    "\n",
    "# Custom render function\n",
    "def render_review(review):\n",
    "    verified = \"✓\" if review.get(\"verified\") else \"✗\"\n",
    "    stars = \"⭐\" * review.get(\"rating\", 0)\n",
    "    return f\"Review #{review['id']} [{verified}]\\n{stars}\\n\\n{review['text']}\"\n",
    "\n",
    "# Create widget with custom renderer\n",
    "widget2 = SimpleLabel(\n",
    "    examples=dict_examples,\n",
    "    render=render_review,\n",
    "    notes=True,\n",
    "    shortcuts={\"d\": \"prev\", \"f\": \"no\", \"j\": \"yes\", \"k\": \"skip\"}\n",
    ")\n",
    "\n",
    "widget2"
   ]
  },
  {
   "cell_type": "markdown",
   "metadata": {},
   "source": [
    "## Without Notes Field\n",
    "\n",
    "You can disable the notes field for simpler annotations:"
   ]
  },
  {
   "cell_type": "code",
   "execution_count": null,
   "metadata": {},
   "outputs": [],
   "source": [
    "# Create widget without notes\n",
    "widget3 = SimpleLabel(\n",
    "    examples=[\"Example 1\", \"Example 2\", \"Example 3\"],\n",
    "    notes=False,  # No notes field\n",
    "    shortcuts={\"1\": \"prev\", \"2\": \"no\", \"3\": \"yes\", \"4\": \"skip\"}\n",
    ")\n",
    "\n",
    "widget3"
   ]
  }
 ],
 "metadata": {
  "kernelspec": {
   "display_name": "Python 3",
   "language": "python",
   "name": "python3"
  },
  "language_info": {
   "codemirror_mode": {
    "name": "ipython",
    "version": 3
   },
   "file_extension": ".py",
   "mimetype": "text/x-python",
   "name": "python",
   "nbconvert_exporter": "python",
   "pygments_lexer": "ipython3",
   "version": "3.8.0"
  }
 },
 "nbformat": 4,
 "nbformat_minor": 4
}